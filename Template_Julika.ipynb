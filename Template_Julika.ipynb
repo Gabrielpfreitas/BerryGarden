{
 "cells": [
  {
   "cell_type": "code",
   "execution_count": null,
   "id": "0e43ef19",
   "metadata": {},
   "outputs": [],
   "source": [
    "#import necessary systems packages\n",
    "import sys\n",
    "import os\n",
    "import pandas as pd\n",
    "import matplotlib as mpl\n",
    "import matplotlib.pyplot as plt\n",
    "import numpy as np\n",
    "sys.path.append('where_cloud_berry_is_installed')\n",
    "\n",
    "#import cloudberry packages\n",
    "import mulberry     as mb\n",
    "import cloudberry   as cb\n",
    "import juniperberry as jb\n",
    "import auxberry     as ab"
   ]
  },
  {
   "cell_type": "code",
   "execution_count": null,
   "id": "b5a60c6a",
   "metadata": {},
   "outputs": [],
   "source": [
    "#get gamma file\n",
    "mb.create_gamma_file(path='where_mbs_raw_files_are',path_gamma='where_mbs_processed_files_will_be')"
   ]
  },
  {
   "cell_type": "code",
   "execution_count": null,
   "id": "016bca36",
   "metadata": {},
   "outputs": [],
   "source": [
    "#process MBS data \n",
    "mb.processMBS(path_raw='where_mbs_raw_files_are',path_hdf='where_mbs_processed_files_will_be')"
   ]
  },
  {
   "cell_type": "code",
   "execution_count": null,
   "id": "14ea94be",
   "metadata": {},
   "outputs": [],
   "source": [
    "#read gamma file\n",
    "gamma = pd.read_csv('path_to_gamma_file',index_col=0)\n",
    "\n",
    "#get xenon channels names\n",
    "cv = ['XE1_'+str(x) for x in range(1,9)]"
   ]
  },
  {
   "cell_type": "code",
   "execution_count": null,
   "id": "e35e1207",
   "metadata": {},
   "outputs": [],
   "source": []
  },
  {
   "cell_type": "code",
   "execution_count": null,
   "id": "422b38cd",
   "metadata": {},
   "outputs": [],
   "source": [
    "def "
   ]
  }
 ],
 "metadata": {
  "kernelspec": {
   "display_name": "Python 3",
   "language": "python",
   "name": "python3"
  },
  "language_info": {
   "codemirror_mode": {
    "name": "ipython",
    "version": 3
   },
   "file_extension": ".py",
   "mimetype": "text/x-python",
   "name": "python",
   "nbconvert_exporter": "python",
   "pygments_lexer": "ipython3",
   "version": "3.7.10"
  },
  "toc": {
   "base_numbering": 1,
   "nav_menu": {},
   "number_sections": true,
   "sideBar": true,
   "skip_h1_title": false,
   "title_cell": "Table of Contents",
   "title_sidebar": "Contents",
   "toc_cell": false,
   "toc_position": {},
   "toc_section_display": true,
   "toc_window_display": false
  },
  "varInspector": {
   "cols": {
    "lenName": 16,
    "lenType": 16,
    "lenVar": 40
   },
   "kernels_config": {
    "python": {
     "delete_cmd_postfix": "",
     "delete_cmd_prefix": "del ",
     "library": "var_list.py",
     "varRefreshCmd": "print(var_dic_list())"
    },
    "r": {
     "delete_cmd_postfix": ") ",
     "delete_cmd_prefix": "rm(",
     "library": "var_list.r",
     "varRefreshCmd": "cat(var_dic_list()) "
    }
   },
   "types_to_exclude": [
    "module",
    "function",
    "builtin_function_or_method",
    "instance",
    "_Feature"
   ],
   "window_display": false
  }
 },
 "nbformat": 4,
 "nbformat_minor": 5
}

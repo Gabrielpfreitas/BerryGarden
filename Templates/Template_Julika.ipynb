{
 "cells": [
  {
   "cell_type": "code",
   "execution_count": null,
   "id": "9244fb02",
   "metadata": {},
   "outputs": [],
   "source": [
    "#import necessary systems packages\n",
    "import sys\n",
    "import os\n",
    "import pandas as pd\n",
    "import matplotlib as mpl\n",
    "import matplotlib.pyplot as plt\n",
    "import numpy as np\n",
    "sys.path.append('where_cloud_berry_is_installed')\n",
    "\n",
    "#import cloudberry packages\n",
    "import mulberry     as mb\n",
    "import cloudberry   as cb\n",
    "import juniperberry as jb\n",
    "import auxberry     as ab"
   ]
  },
  {
   "cell_type": "code",
   "execution_count": null,
   "id": "04a5319d",
   "metadata": {},
   "outputs": [],
   "source": [
    "#get gamma file\n",
    "mb.create_gamma_file(path='where_mbs_raw_files_are',path_gamma='where_gamma_file_will_be')"
   ]
  },
  {
   "cell_type": "code",
   "execution_count": null,
   "id": "0c6e9522",
   "metadata": {},
   "outputs": [],
   "source": [
    "#process MBS data \n",
    "mb.processMBS(path_raw='where_mbs_raw_files_are',path_hdf='where_mbs_processed_files_will_be')"
   ]
  },
  {
   "cell_type": "code",
   "execution_count": null,
   "id": "e36ff95a",
   "metadata": {},
   "outputs": [],
   "source": [
    "#read gamma file\n",
    "gamma = pd.read_csv('path_to_gamma_file',index_col=0)"
   ]
  },
  {
   "cell_type": "code",
   "execution_count": null,
   "id": "d0835b30",
   "metadata": {},
   "outputs": [],
   "source": [
    "#get particles fluorecsnt, coarse and classified:\n",
    "#this can take a while...\n",
    "fluo, coarse = mb.getparticles('where_mbs_processed_files_will_be')"
   ]
  },
  {
   "cell_type": "code",
   "execution_count": null,
   "id": "3707cda6",
   "metadata": {},
   "outputs": [],
   "source": [
    "#perform preliminary decision tree to get PBAP:\n",
    "pbap = mb.pbaptree(fluo)"
   ]
  },
  {
   "cell_type": "code",
   "execution_count": null,
   "id": "b3c14f0f",
   "metadata": {},
   "outputs": [],
   "source": [
    "#get concentrations of these particles\n",
    "y1 = mb.getconc(df=fluo  ,time='1H',flow=1.85)\n",
    "y2 = mb.getconc(df=coarse,time='1H',flow=1.85)\n",
    "y3 = mb.getconc(df=pbap  ,time='1H',flow=1.85)"
   ]
  }
 ],
 "metadata": {
  "kernelspec": {
   "display_name": "Python 3",
   "language": "python",
   "name": "python3"
  },
  "language_info": {
   "codemirror_mode": {
    "name": "ipython",
    "version": 3
   },
   "file_extension": ".py",
   "mimetype": "text/x-python",
   "name": "python",
   "nbconvert_exporter": "python",
   "pygments_lexer": "ipython3",
   "version": "3.7.10"
  },
  "toc": {
   "base_numbering": 1,
   "nav_menu": {},
   "number_sections": true,
   "sideBar": true,
   "skip_h1_title": false,
   "title_cell": "Table of Contents",
   "title_sidebar": "Contents",
   "toc_cell": false,
   "toc_position": {},
   "toc_section_display": true,
   "toc_window_display": false
  },
  "varInspector": {
   "cols": {
    "lenName": 16,
    "lenType": 16,
    "lenVar": 40
   },
   "kernels_config": {
    "python": {
     "delete_cmd_postfix": "",
     "delete_cmd_prefix": "del ",
     "library": "var_list.py",
     "varRefreshCmd": "print(var_dic_list())"
    },
    "r": {
     "delete_cmd_postfix": ") ",
     "delete_cmd_prefix": "rm(",
     "library": "var_list.r",
     "varRefreshCmd": "cat(var_dic_list()) "
    }
   },
   "types_to_exclude": [
    "module",
    "function",
    "builtin_function_or_method",
    "instance",
    "_Feature"
   ],
   "window_display": false
  }
 },
 "nbformat": 4,
 "nbformat_minor": 5
}
